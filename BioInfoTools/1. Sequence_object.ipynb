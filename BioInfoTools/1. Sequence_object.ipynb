{
 "cells": [
  {
   "cell_type": "code",
   "execution_count": 16,
   "id": "10e6dfbc",
   "metadata": {},
   "outputs": [],
   "source": [
    "infile = \"input/fasta_example_2.fasta\"\n",
    "with open(infile) as file:\n",
    "    seqlist = [line.strip() for line in file.readlines()]\n",
    "    seqdict = {}\n",
    "    newlist = []\n",
    "\n",
    "    for item in seqlist:\n",
    "        if item.startswith(\">\"):            \n",
    "            seq_name = item.replace(\">\",\"\")\n",
    "            seqdict[seq_name] = {\"NAME\": seq_name, \"COMMENT\": \"\", \"SEQ\": \"\"}\n",
    "        elif item.startswith(\";\"):\n",
    "            item_index = seqlist.index(item)\n",
    "            if item_index == 0:\n",
    "                seq_name = item.replace(\";\",\"\")\n",
    "                seqdict[seq_name] = {\"NAME\": seq_name, \"COMMENT\": \"\", \"SEQ\": \"\"}\n",
    "            else:\n",
    "                if seqlist[item_index - 1].startswith(\";\"):\n",
    "                    seqdict[seq_name][\"COMMENT\"] += item.replace(\";\", \"\")           \n",
    "        else:\n",
    "            seqdict[seq_name][\"SEQ\"] += item"
   ]
  },
  {
   "cell_type": "code",
   "execution_count": 17,
   "id": "97fb0bb0",
   "metadata": {},
   "outputs": [
    {
     "data": {
      "text/plain": [
       "dict_values([{'NAME': 'LCBO - Prolactin precursor - Bovine', 'COMMENT': ' a sample sequence in FASTA format', 'SEQ': 'MDSKGSSQKGSRLLLLLVVSNLLLCQGVVSTPVCPNGPGNCQVSLRDLFDRAVMVSHYIHDLSSEMFNEFDKRYAQGKGFITMALNSCHTSSLPTPEDKEQAQQTHHEVLMSLILGLLRSWNDPLYHLVTEVRGMKGAPDAILSRAIEIEEENKRLLEGMEMIFGQVIPGAKETEPYPVWSGLPSLQTKDEDARYSAFYNLLHCLRRDSSKIDTYLKLLNCRIIYNNNC*'}, {'NAME': 'MCHU - Calmodulin - Human, rabbit, bovine, rat, and chicken', 'COMMENT': '', 'SEQ': 'MADQLTEEQIAEFKEAFSLFDKDGDGTITTKELGTVMRSLGQNPTEAELQDMINEVDADGNGTIDFPEFLTMMARKMKDTDSEEEIREAFRVFDKDGNGYISAAELRHVMTNLGEKLTDEEVDEMIREADIDGDGQVNYEEFVQMMTAK*'}, {'NAME': 'gi|5524211|gb|AAD44166.1| cytochrome b [Elephas maximus maximus]', 'COMMENT': '', 'SEQ': 'LCLYTHIGRNIYYGSYLYSETWNTGIMLLLITMATAFMGYVLPWGQMSFWGATVITNLFSAIPYIGTNLVEWIWGGFSVDKATLNRFFAFHFILPFTMVALAGVHLTFLHETGSNNPLGLTSDSDKIPFHPYYTIKDFLGLLILILLLLLLALLSPDMLGDPDNHMPADPLNTPLHIKPEWYFLFAYAILRSVPNKLGGVLALFLSIVILGLMPFLHTSKHRSMMLRPLSQALFWTLTMDLLTLTWIGSQPVEYPYTIIGQMASILYFSIILAFLPIAGXIENY'}])"
      ]
     },
     "execution_count": 17,
     "metadata": {},
     "output_type": "execute_result"
    }
   ],
   "source": [
    "seqdict.values()"
   ]
  },
  {
   "cell_type": "code",
   "execution_count": null,
   "id": "75badf3c",
   "metadata": {},
   "outputs": [],
   "source": []
  }
 ],
 "metadata": {
  "kernelspec": {
   "display_name": "Python 3 (ipykernel)",
   "language": "python",
   "name": "python3"
  },
  "language_info": {
   "codemirror_mode": {
    "name": "ipython",
    "version": 3
   },
   "file_extension": ".py",
   "mimetype": "text/x-python",
   "name": "python",
   "nbconvert_exporter": "python",
   "pygments_lexer": "ipython3",
   "version": "3.10.4"
  }
 },
 "nbformat": 4,
 "nbformat_minor": 5
}
