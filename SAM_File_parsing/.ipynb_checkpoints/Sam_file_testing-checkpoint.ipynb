{
 "cells": [
  {
   "cell_type": "markdown",
   "metadata": {},
   "source": [
    "### Sunday, 26-9-2021\n",
    "\n",
    "Testing parsing of SAM file for the unique reads feature in PikaVirus"
   ]
  },
  {
   "cell_type": "code",
   "execution_count": 1,
   "metadata": {},
   "outputs": [],
   "source": [
    "first_samfile = \"./file.sam\"\n",
    "second_samfile = \"./file2.sam\"\n",
    "\n",
    "sam_files_list = [first_samfile, second_samfile]"
   ]
  },
  {
   "cell_type": "code",
   "execution_count": 7,
   "metadata": {},
   "outputs": [],
   "source": [
    "for samfile in sam_files_list:\n",
    "\n",
    "with open(samfile) as infile:\n",
    "    infile = infile.readlines()\n",
    "    infile = [line.split(\"\\t\") for line in infile if not line.startswith(\"@\")]"
   ]
  },
  {
   "cell_type": "code",
   "execution_count": 8,
   "metadata": {},
   "outputs": [
    {
     "name": "stdout",
     "output_type": "stream",
     "text": [
      "[['1:497:R:-272+13M17D24M', '113', '1', '497', '37', '37M', '15', '100338662', '0', 'CGGGTCTGACCTGAGGAGAACTGTGCTCCGCCTTCAG', '0;==-==9;>>>>>=>>>>>>>>>>>=>>>>>>>>>>', 'XT:A:U', 'NM:i:0', 'SM:i:37', 'AM:i:0', 'X0:i:1', 'X1:i:0', 'XM:i:0', 'XO:i:0', 'XG:i:0', 'MD:Z:37\\n'], ['19:20389:F:275+18M2D19M', '99', '1', '17644', '0', '37M', '=', '17919', '314', 'TATGACTGCTAATAATACCTACACATGTTAGAACCAT', '>>>>>>>>>>>>>>>>>>>><<>>><<>>4::>>:<9', 'RG:Z:UM0098:1', 'XT:A:R', 'NM:i:0', 'SM:i:0', 'AM:i:0', 'X0:i:4', 'X1:i:0', 'XM:i:0', 'XO:i:0', 'XG:i:0', 'MD:Z:37\\n'], ['19:20389:F:275+18M2D19M', '147', '1', '17919', '0', '18M2D19M', '=', '17644', '-314', 'GTAGTACCAACTGTAAGTCCTTATCTTCATACTTTGT', ';44999;499<8<8<<<8<<><<<<><7<;<<<>><<', 'XT:A:R', 'NM:i:2', 'SM:i:0', 'AM:i:0', 'X0:i:4', 'X1:i:0', 'XM:i:0', 'XO:i:1', 'XG:i:2', 'MD:Z:18^CA19\\n'], ['9:21597+10M2I25M:R:-209', '83', '1', '21678', '0', '8M2I27M', '=', '21469', '-244', 'CACCACATCACATATACCAAGCCTGGCTGTGTCTTCT', '<;9<<5><<<<><<<>><<><>><9>><>>>9>>><>', 'XT:A:R', 'NM:i:2', 'SM:i:0', 'AM:i:0', 'X0:i:5', 'X1:i:0', 'XM:i:0', 'XO:i:1', 'XG:i:2', 'MD:Z:35']]\n"
     ]
    }
   ],
   "source": [
    "print(infile)"
   ]
  },
  {
   "cell_type": "code",
   "execution_count": null,
   "metadata": {},
   "outputs": [],
   "source": []
  }
 ],
 "metadata": {
  "kernelspec": {
   "display_name": "Python 3",
   "language": "python",
   "name": "python3"
  },
  "language_info": {
   "codemirror_mode": {
    "name": "ipython",
    "version": 3
   },
   "file_extension": ".py",
   "mimetype": "text/x-python",
   "name": "python",
   "nbconvert_exporter": "python",
   "pygments_lexer": "ipython3",
   "version": "3.8.5"
  }
 },
 "nbformat": 4,
 "nbformat_minor": 4
}
