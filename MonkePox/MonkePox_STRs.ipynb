{
 "cells": [
  {
   "cell_type": "code",
   "execution_count": null,
   "id": "5f704409",
   "metadata": {},
   "outputs": [],
   "source": [
    "import os\n",
    "import sys\n",
    "import json\n",
    "import pandas as pd\n",
    "from composition_stats import closure\n",
    "from composition_stats import clr"
   ]
  },
  {
   "cell_type": "code",
   "execution_count": null,
   "id": "270fac44",
   "metadata": {},
   "outputs": [],
   "source": [
    "def get_STRS_samplelist(df):\n",
    "    # Get STR and sample list\n",
    "    STRS = list(set(df[\"STR_mark\"]))\n",
    "    sample_list = list(set(df.index))\n",
    "    \n",
    "    return STRS, sample_list\n",
    "\n",
    "def encode_sequences(df):\n",
    "    traduction_dict = dict()\n",
    "    count_dict = dict()\n",
    "    \n",
    "    for row in range(df.shape[0]):\n",
    "\n",
    "        STR = df.iloc[row][\"STR_mark\"]\n",
    "        seq = df.iloc[row][\"Sequence\"]\n",
    "\n",
    "        if STR not in traduction_dict.keys():\n",
    "            traduction_dict[STR] = {}\n",
    "            count_dict[STR] = 0 \n",
    "\n",
    "        if seq not in traduction_dict[STR].keys():\n",
    "            new_seq = f\"{STR}_allele_{count_dict[STR]}\"\n",
    "            traduction_dict[STR][seq] = new_seq\n",
    "            # Sequence = col 5\n",
    "            df.iloc[row,5] = new_seq\n",
    "\n",
    "            count_dict[STR]+=1\n",
    "\n",
    "        else:\n",
    "\n",
    "            df.iloc[row,5] = traduction_dict[STR][seq]\n",
    "        \n",
    "    return df, traduction_dict\n",
    "    \n",
    "\n",
    "def most_frequent_alleles(df):\n",
    "\n",
    "    STRS, sample_list = get_STRS_samplelist(df)\n",
    "    \n",
    "    # alfreq_dict, relfreqs of alleles, starts at 0\n",
    "    # seq_dict, seq of alleles, starts at None\n",
    "    alfreq_dict = dict()\n",
    "    seq_dict = dict()\n",
    "\n",
    "    # get the most frequent allele and its relfreq\n",
    "    for STR in STRS:\n",
    "        alfreq_dict[STR] = dict()\n",
    "        seq_dict[STR] = dict()\n",
    "        for sample in sample_list:\n",
    "            alfreq_dict[STR][sample] = 0\n",
    "            seq_dict[STR][sample] = \"None\"\n",
    "    \n",
    "    for index, row in df.iterrows():\n",
    "        STR = row[\"STR_mark\"]\n",
    "        al_freq = row[\"AlleleFrequency\"]\n",
    "        sample = index\n",
    "\n",
    "        if alfreq_dict[STR][sample] < al_freq:\n",
    "            seq = row[\"Sequence\"]\n",
    "\n",
    "            alfreq_dict[STR][sample] = al_freq\n",
    "            seq_dict[STR][sample] = seq\n",
    "    \n",
    "    # seq of the most freq allele per str and sample\n",
    "    df_mostfreqalleles_seqs = pd.DataFrame.from_dict(seq_dict)\n",
    "    \n",
    "    # freq of the most freq allele per str and sample\n",
    "    df_mostfreqalleles_freqs = pd.DataFrame.from_dict(alfreq_dict)\n",
    "\n",
    "            \n",
    "    return df_mostfreqalleles_seqs, df_mostfreqalleles_freqs\n",
    "    \n",
    "def all_alleles(df, column):\n",
    "    STRS, sample_list = get_STRS_samplelist(df)\n",
    "    \n",
    "    # rename alleles\n",
    "    raw_seq_renamed_df = raw_df.copy()\n",
    "    \n",
    "    # list with all different alleles\n",
    "    all_alleles = list(set(raw_seq_renamed_df[\"Sequence\"]))\n",
    "    \n",
    "    # dict for freq of every allele\n",
    "    alleles_dict_freq = { item: { allele:0 for allele in all_alleles } for item in sample_list }\n",
    "    alleles_dict_binary = { item: { allele:0 for allele in all_alleles } for item in sample_list }\n",
    "\n",
    "    # dict for presence of every allele\n",
    "    \n",
    "    for index, row in raw_seq_renamed_df.iterrows():\n",
    "        sample = index\n",
    "        allele = row[\"Sequence\"]\n",
    "        freq = row[column]\n",
    "\n",
    "        alleles_dict_freq[sample][allele] = float(freq)\n",
    "        alleles_dict_binary[sample][allele] = 1\n",
    "    \n",
    "        # df for presence\n",
    "    df_alleles_binary = pd.DataFrame.from_dict(alleles_dict_binary)\n",
    "    \n",
    "    # df for freq\n",
    "    df_alleles_freq = pd.DataFrame.from_dict(alleles_dict_freq)\n",
    "        \n",
    "    return df_alleles_binary, df_alleles_freq"
   ]
  },
  {
   "cell_type": "code",
   "execution_count": null,
   "id": "247cebe4",
   "metadata": {},
   "outputs": [],
   "source": [
    "# Import data\n",
    "raw_df = pd.read_excel(\"Input/full_long_table.xlsx\", index_col = \"Sample_name\")\n",
    "\n",
    "# Encode data\n",
    "renamed_df, traduction_dict = encode_sequences(raw_df)\n",
    "\n",
    "df_mostfreqalleles_seqs, df_mostfreqalleles_freqs = most_frequent_alleles(renamed_df)\n",
    "df_alleles_binary, df_alleles_freq = all_alleles(renamed_df, \"AlleleFrequency\")\n",
    "df_alleles_reads = all_alleles(renamed_df, \"Supporting_reads\")[1]\n",
    "\n",
    "\n"
   ]
  },
  {
   "cell_type": "code",
   "execution_count": null,
   "id": "d0ad4f4d",
   "metadata": {},
   "outputs": [],
   "source": [
    "df_alleles_reads"
   ]
  },
  {
   "cell_type": "code",
   "execution_count": null,
   "id": "c38e085c",
   "metadata": {
    "scrolled": true
   },
   "outputs": [],
   "source": [
    "# samples will be the rows\n",
    "rows = list(df_alleles_reads.columns)\n",
    "# alleles will be the cols\n",
    "cols = list(df_alleles_reads.index)\n",
    "\n",
    "clr_df = pd.DataFrame(clr(closure(df_alleles_reads.transpose()+0.000001)),columns=cols, index=rows)\n",
    "clr_df"
   ]
  },
  {
   "cell_type": "code",
   "execution_count": null,
   "id": "a70227a3",
   "metadata": {
    "scrolled": false
   },
   "outputs": [],
   "source": [
    "df_alleles_binary.head()"
   ]
  },
  {
   "cell_type": "code",
   "execution_count": null,
   "id": "c8048177",
   "metadata": {
    "scrolled": true
   },
   "outputs": [],
   "source": [
    "raw_df.head()"
   ]
  },
  {
   "cell_type": "code",
   "execution_count": null,
   "id": "44af1f4f",
   "metadata": {},
   "outputs": [],
   "source": [
    "df_alleles_freq.head()"
   ]
  },
  {
   "cell_type": "code",
   "execution_count": null,
   "id": "f42bd7da",
   "metadata": {},
   "outputs": [],
   "source": []
  },
  {
   "cell_type": "code",
   "execution_count": null,
   "id": "2023b0e4",
   "metadata": {},
   "outputs": [],
   "source": [
    "df_mostfreqalleles_seqs.head()"
   ]
  },
  {
   "cell_type": "code",
   "execution_count": null,
   "id": "aeadd8bd",
   "metadata": {},
   "outputs": [],
   "source": [
    "df_mostfreqalleles_freqs.head()"
   ]
  },
  {
   "cell_type": "code",
   "execution_count": null,
   "id": "0c40f3d1",
   "metadata": {},
   "outputs": [],
   "source": [
    "traduction_dict"
   ]
  }
 ],
 "metadata": {
  "kernelspec": {
   "display_name": "Python 3 (ipykernel)",
   "language": "python",
   "name": "python3"
  },
  "language_info": {
   "codemirror_mode": {
    "name": "ipython",
    "version": 3
   },
   "file_extension": ".py",
   "mimetype": "text/x-python",
   "name": "python",
   "nbconvert_exporter": "python",
   "pygments_lexer": "ipython3",
   "version": "3.9.7"
  }
 },
 "nbformat": 4,
 "nbformat_minor": 5
}
