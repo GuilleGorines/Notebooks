{
 "cells": [
  {
   "cell_type": "code",
   "execution_count": 62,
   "id": "ac46ce75",
   "metadata": {},
   "outputs": [],
   "source": [
    "import os\n",
    "\n",
    "import pandas\n",
    "import numpy\n",
    "import seaborn as sns\n",
    "import matplotlib.pyplot as plt\n",
    "%matplotlib inline"
   ]
  },
  {
   "cell_type": "code",
   "execution_count": 2,
   "id": "e53cb6ee",
   "metadata": {},
   "outputs": [],
   "source": [
    "def remove_zero_columns(df):\n",
    "    \n",
    "    df_removed = df.loc[:, (df != 0).any(axis=0)]\n",
    "    \n",
    "    return df_removed"
   ]
  },
  {
   "cell_type": "code",
   "execution_count": 95,
   "id": "5693b158",
   "metadata": {},
   "outputs": [],
   "source": [
    "def get_most_relevant(df, number):\n",
    "    \n",
    "    df.loc[\"Desv\"] = df.std()\n",
    "    df.loc[\"Mean Desv\"] = df.mad()\n",
    "    df = df[(df.loc[\"Mean Desv\"].nlargest(n=number)).index]\n",
    "    \n",
    "    df2 = df.drop([\"Desv\",\"Mean Desv\"], axis=0)\n",
    "    \n",
    "    return df2\n",
    "    "
   ]
  },
  {
   "cell_type": "code",
   "execution_count": 72,
   "id": "4cb16e2c",
   "metadata": {},
   "outputs": [],
   "source": [
    "level_dict = {\"lvl7\" : \"species\",\n",
    "             \"lvl6\" : \"genera\",\n",
    "             \"lvl5\" : \"gamily\",\n",
    "             \"lvl4\" : \"order\",\n",
    "             \"lvl3\" : \"class\",\n",
    "             \"lvl2\" : \"phyla\",\n",
    "             \"lvl1\" : \"domain\"}"
   ]
  },
  {
   "cell_type": "code",
   "execution_count": 4,
   "id": "0acec68e",
   "metadata": {},
   "outputs": [],
   "source": [
    "# remove the checkpoints part later plz\n",
    "dir_list = [os.path.realpath(item[0]) for item in os.walk(\".\") if item[0] != \".\" and \".ipynb_checkpoints\" not in item[0] and \"logs\" not in item[0]] "
   ]
  },
  {
   "cell_type": "code",
   "execution_count": 5,
   "id": "95b57322",
   "metadata": {},
   "outputs": [],
   "source": [
    "file_list = []\n",
    "for folder in dir_list:\n",
    "    for file in os.listdir(folder):\n",
    "        file_list.append(f\"{folder}/{file}\")"
   ]
  },
  {
   "cell_type": "code",
   "execution_count": 6,
   "id": "f4b69b64",
   "metadata": {},
   "outputs": [
    {
     "name": "stdout",
     "output_type": "stream",
     "text": [
      "/home/g.gorines/Workdir/Pruebas/Core_microbiano/localidad/localidad_lvl4.tsv\n",
      "/home/g.gorines/Workdir/Pruebas/Core_microbiano/localidad/localidad_lvl3.tsv\n",
      "/home/g.gorines/Workdir/Pruebas/Core_microbiano/localidad/localidad_lvl5.tsv\n",
      "/home/g.gorines/Workdir/Pruebas/Core_microbiano/localidad/localidad_lvl7.tsv\n",
      "/home/g.gorines/Workdir/Pruebas/Core_microbiano/localidad/localidad_lvl1.tsv\n",
      "/home/g.gorines/Workdir/Pruebas/Core_microbiano/localidad/localidad_lvl2.tsv\n",
      "/home/g.gorines/Workdir/Pruebas/Core_microbiano/localidad/localidad_lvl6.tsv\n",
      "/home/g.gorines/Workdir/Pruebas/Core_microbiano/Treatment/Treatment_lvl3.tsv\n",
      "/home/g.gorines/Workdir/Pruebas/Core_microbiano/Treatment/Treatment_lvl5.tsv\n",
      "/home/g.gorines/Workdir/Pruebas/Core_microbiano/Treatment/Treatment_lvl7.tsv\n",
      "/home/g.gorines/Workdir/Pruebas/Core_microbiano/Treatment/Treatment_lvl4.tsv\n",
      "/home/g.gorines/Workdir/Pruebas/Core_microbiano/Treatment/Treatment_lvl1.tsv\n",
      "/home/g.gorines/Workdir/Pruebas/Core_microbiano/Treatment/Treatment_lvl2.tsv\n",
      "/home/g.gorines/Workdir/Pruebas/Core_microbiano/Treatment/Treatment_lvl6.tsv\n",
      "/home/g.gorines/Workdir/Pruebas/Core_microbiano/Sample_from/Sample_from_lvl4.tsv\n",
      "/home/g.gorines/Workdir/Pruebas/Core_microbiano/Sample_from/Sample_from_lvl6.tsv\n",
      "/home/g.gorines/Workdir/Pruebas/Core_microbiano/Sample_from/Sample_from_lvl2.tsv\n",
      "/home/g.gorines/Workdir/Pruebas/Core_microbiano/Sample_from/Sample_from_lvl3.tsv\n",
      "/home/g.gorines/Workdir/Pruebas/Core_microbiano/Sample_from/Sample_from_lvl7.tsv\n",
      "/home/g.gorines/Workdir/Pruebas/Core_microbiano/Sample_from/Sample_from_lvl1.tsv\n",
      "/home/g.gorines/Workdir/Pruebas/Core_microbiano/Sample_from/Sample_from_lvl5.tsv\n"
     ]
    }
   ],
   "source": [
    "for item in file_list:\n",
    "    print(item)"
   ]
  },
  {
   "cell_type": "code",
   "execution_count": 7,
   "id": "b9ff57b5",
   "metadata": {},
   "outputs": [],
   "source": [
    "# This doesnt seem to work fsr:\n",
    "# file_list = [f\"{folder}/{file}\" for file in os.listdir(folder) for folder in dir_list]"
   ]
  },
  {
   "cell_type": "code",
   "execution_count": 126,
   "id": "deb6871e",
   "metadata": {},
   "outputs": [
    {
     "name": "stdout",
     "output_type": "stream",
     "text": [
      "localidad\n",
      "Order\n"
     ]
    }
   ],
   "source": [
    "for file in file_list[0:1]:\n",
    "    df = pandas.read_csv(file, sep=\"\\t\", header=0, index_col=0)\n",
    "    df = remove_zero_columns(df)\n",
    "    df = get_most_relevant(df,10)\n",
    "    \n",
    "    category, level = os.path.basename(file).replace(\".tsv\",\"\").split(\"_\")\n",
    "    level = level_dict[level]\n",
    "    \n",
    "    print(category)\n",
    "    print(level)"
   ]
  },
  {
   "cell_type": "code",
   "execution_count": 127,
   "id": "08d293b4",
   "metadata": {},
   "outputs": [
    {
     "name": "stdout",
     "output_type": "stream",
     "text": [
      "/home/g.gorines/Workdir/Pruebas/Core_microbiano/localidad/localidad_lvl4.tsv\n"
     ]
    }
   ],
   "source": [
    "print(file)"
   ]
  },
  {
   "cell_type": "code",
   "execution_count": 128,
   "id": "af8d3e96",
   "metadata": {},
   "outputs": [
    {
     "data": {
      "text/plain": [
       "'/home/g.gorines/Workdir/Pruebas/Core_microbiano/localidad/localidad_lvl4.tsv'"
      ]
     },
     "execution_count": 128,
     "metadata": {},
     "output_type": "execute_result"
    }
   ],
   "source": [
    "file"
   ]
  },
  {
   "cell_type": "code",
   "execution_count": 129,
   "id": "fd6e0c32",
   "metadata": {},
   "outputs": [],
   "source": [
    "# add dict for change of index and columns\n",
    "dict_rename_index = {item:item.split(\"_\")[-1] for item in df.index}\n",
    "dict_rename_taxa = {item:item.split(\"_\")[-1] for item in df.columns}"
   ]
  },
  {
   "cell_type": "code",
   "execution_count": 130,
   "id": "5b1c7bbb",
   "metadata": {},
   "outputs": [],
   "source": [
    "df.rename(columns=dict_rename_taxa, inplace=True)\n",
    "df.rename(index=dict_rename_index, inplace=True)"
   ]
  },
  {
   "cell_type": "code",
   "execution_count": 131,
   "id": "bb8b9a77",
   "metadata": {},
   "outputs": [
    {
     "data": {
      "image/png": "[encoded data removed]",
      "text/plain": [
       "<Figure size 720x720 with 2 Axes>"
      ]
     },
     "metadata": {
      "needs_background": "light"
     },
     "output_type": "display_data"
    }
   ],
   "source": [
    "fig,ax = plt.subplots(figsize=(15,15))\n",
    "sns.set(rc={'axes.facecolor':'white', 'figure.facecolor':'white'})\n",
    "ax.set_title(f\"Abundance (% of samples) of organism {level} by {category}\", fontdict={'fontsize' : 15})\n",
    "sns.heatmap(df, annot=True, \n",
    "            cbar=True, \n",
    "            cmap=\"Greens\", \n",
    "            vmax=100, \n",
    "            vmin=0, \n",
    "            fmt=\"g\", \n",
    "            square=True, \n",
    "            ax=ax, \n",
    "            cbar_kws={\n",
    "                \"orientation\" : \"horizontal\",\n",
    "                \"location\" : \"top\"\n",
    "            }\n",
    "           )\n",
    "plt.yticks(rotation=0)\n",
    "plt.xticks(rotation=45)\n",
    "plt.savefig(png_name)"
   ]
  },
  {
   "cell_type": "code",
   "execution_count": null,
   "id": "f0fc41ad",
   "metadata": {},
   "outputs": [],
   "source": []
  }
 ],
 "metadata": {
  "kernelspec": {
   "display_name": "Python 3 (ipykernel)",
   "language": "python",
   "name": "python3"
  },
  "language_info": {
   "codemirror_mode": {
    "name": "ipython",
    "version": 3
   },
   "file_extension": ".py",
   "mimetype": "text/x-python",
   "name": "python",
   "nbconvert_exporter": "python",
   "pygments_lexer": "ipython3",
   "version": "3.9.7"
  }
 },
 "nbformat": 4,
 "nbformat_minor": 5
}
