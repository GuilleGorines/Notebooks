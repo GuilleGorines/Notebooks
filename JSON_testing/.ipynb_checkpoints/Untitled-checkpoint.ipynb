{
 "cells": [
  {
   "cell_type": "code",
   "execution_count": 1,
   "metadata": {},
   "outputs": [],
   "source": [
    "import json\n",
    "input_file = \"Input/processed_METADATA_LAB_2022_07_22_Luis.json\"\n",
    "out_file = \"Output/outfile.json\""
   ]
  },
  {
   "cell_type": "code",
   "execution_count": 2,
   "metadata": {},
   "outputs": [],
   "source": [
    "with open(input_file, \"r+\") as infile:\n",
    "    data = json.load(infile)\n",
    "    missing_val = [data.index(i) for i in data if \"sequencing_instrument_platform\" not in i.keys()]\n",
    "    # print(dicts_w_missing_val)\n",
    "    for index in missing_val:\n",
    "        data[index][\"sequencing_instrument_platform\"] = \"Illumina\"\n",
    "\n",
    "with open(out_file, \"w\") as outfile:\n",
    "    json.dump(data, outfile, indent=4)\n",
    "\n"
   ]
  }
 ],
 "metadata": {
  "kernelspec": {
   "display_name": "Python 3",
   "language": "python",
   "name": "python3"
  },
  "language_info": {
   "codemirror_mode": {
    "name": "ipython",
    "version": 3
   },
   "file_extension": ".py",
   "mimetype": "text/x-python",
   "name": "python",
   "nbconvert_exporter": "python",
   "pygments_lexer": "ipython3",
   "version": "3.6.9"
  }
 },
 "nbformat": 4,
 "nbformat_minor": 4
}
