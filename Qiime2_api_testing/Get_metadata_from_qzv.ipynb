{
 "cells": [
  {
   "cell_type": "markdown",
   "id": "alpha-reaction",
   "metadata": {},
   "source": [
    "# ANCOM"
   ]
  },
  {
   "cell_type": "code",
   "execution_count": 1,
   "id": "understanding-milton",
   "metadata": {},
   "outputs": [],
   "source": [
    "import sys\n",
    "import os\n",
    "import shutil\n",
    "\n",
    "import pandas as pd\n",
    "from qiime2 import Visualization"
   ]
  },
  {
   "cell_type": "code",
   "execution_count": 2,
   "id": "unlike-admission",
   "metadata": {},
   "outputs": [],
   "source": [
    "qzv_in = \"ancom_treatment_full_3.qzv\"\n",
    "outdir = \"tmp\"\n",
    "\n",
    "qzv = Visualization.load(qzv_in)\n",
    "qzv.export_data(outdir)"
   ]
  },
  {
   "cell_type": "code",
   "execution_count": 3,
   "id": "rural-porter",
   "metadata": {
    "scrolled": true
   },
   "outputs": [],
   "source": [
    "# import ancom table, add a \"group\" column to avoid NaNs \n",
    "df_ancom = pd.read_csv(f\"{outdir}/ancom.tsv\", sep=\"\\t\", index_col=0)\n",
    "df_ancom.loc[\"Group\"] = 2 * [\"-\"]\n",
    "df_ancom.drop([\"W\"], axis=1, inplace=True)\n",
    "\n",
    "# import data table, add a \"group\" column to avoid NaNs \n",
    "df_data = pd.read_csv(f\"{outdir}/data.tsv\", sep=\"\\t\", index_col=0)\n",
    "df_data.loc[\"Group\"] = 2 * [\"-\"]\n",
    "\n",
    "# import percent abundances\n",
    "df_percent_abundances = pd.read_csv(f\"{outdir}/percent-abundances.tsv\", sep = \"\\t\", index_col=0)\n",
    "\n",
    "# mix the three of them\n",
    "df_ancom_data = pd.concat([df_ancom, df_data], axis=1)\n",
    "\n",
    "df = pd.concat([df_ancom_data, df_percent_abundances], axis=1)\n",
    "# df.to_csv(f\".tsv\", sep=\"\\t\")"
   ]
  },
  {
   "cell_type": "code",
   "execution_count": 4,
   "id": "great-hebrew",
   "metadata": {},
   "outputs": [],
   "source": [
    "shutil.rmtree(\"tmp\")"
   ]
  },
  {
   "cell_type": "code",
   "execution_count": 5,
   "id": "loaded-malawi",
   "metadata": {
    "scrolled": true
   },
   "outputs": [],
   "source": [
    "# Get differentially expressed taxa\n",
    "significative_df = df[df[\"Reject null hypothesis\"] == True].loc[:,[\"Reject null hypothesis\", \"clr\", \"W\"]]\n",
    "significative_taxa = list(significative_df.index)"
   ]
  },
  {
   "cell_type": "code",
   "execution_count": 6,
   "id": "natural-meter",
   "metadata": {},
   "outputs": [
    {
     "data": {
      "text/html": [
       "<div>\n",
       "<style scoped>\n",
       "    .dataframe tbody tr th:only-of-type {\n",
       "        vertical-align: middle;\n",
       "    }\n",
       "\n",
       "    .dataframe tbody tr th {\n",
       "        vertical-align: top;\n",
       "    }\n",
       "\n",
       "    .dataframe thead th {\n",
       "        text-align: right;\n",
       "    }\n",
       "</style>\n",
       "<table border=\"1\" class=\"dataframe\">\n",
       "  <thead>\n",
       "    <tr style=\"text-align: right;\">\n",
       "      <th></th>\n",
       "      <th>Reject null hypothesis</th>\n",
       "      <th>clr</th>\n",
       "      <th>W</th>\n",
       "    </tr>\n",
       "  </thead>\n",
       "  <tbody>\n",
       "  </tbody>\n",
       "</table>\n",
       "</div>"
      ],
      "text/plain": [
       "Empty DataFrame\n",
       "Columns: [Reject null hypothesis, clr, W]\n",
       "Index: []"
      ]
     },
     "execution_count": 6,
     "metadata": {},
     "output_type": "execute_result"
    }
   ],
   "source": [
    "significative_df"
   ]
  },
  {
   "cell_type": "code",
   "execution_count": 7,
   "id": "handy-chosen",
   "metadata": {},
   "outputs": [
    {
     "data": {
      "text/plain": [
       "list"
      ]
     },
     "execution_count": 7,
     "metadata": {},
     "output_type": "execute_result"
    }
   ],
   "source": [
    "type(significative_taxa)"
   ]
  },
  {
   "cell_type": "code",
   "execution_count": null,
   "id": "skilled-might",
   "metadata": {},
   "outputs": [],
   "source": []
  },
  {
   "cell_type": "markdown",
   "id": "blind-raising",
   "metadata": {},
   "source": [
    "# Prevalence"
   ]
  },
  {
   "cell_type": "code",
   "execution_count": null,
   "id": "steady-progress",
   "metadata": {},
   "outputs": [],
   "source": [
    "import sys\n",
    "import os\n",
    "\n",
    "import pandas as pd\n",
    "from qiime2 import Artifact"
   ]
  },
  {
   "cell_type": "code",
   "execution_count": null,
   "id": "packed-climb",
   "metadata": {},
   "outputs": [],
   "source": [
    "def normalize_dataframe(dataframe, criteria=0):\n",
    "    \"\"\"\n",
    "    Change the dataframe to an absence-presence matrix\n",
    "    based on a criteria (by now, a number)\n",
    "    \"\"\"\n",
    "    \n",
    "    row_number, col_number = dataframe.shape\n",
    "    \n",
    "    for row in range(0, row_number):\n",
    "        for col in range(0, col_number):\n",
    "            if dataframe.iloc[row, col] >= criteria:\n",
    "                dataframe.iloc[row, col] = 1\n",
    "            else:\n",
    "                dataframe.iloc[row, col] = 0\n",
    "                \n",
    "    return dataframe\n",
    "\n",
    "def create_category_dict(metadata):\n",
    "    \"\"\"\n",
    "    Create, from the metadata dataframe, a dict with\n",
    "    key: category; val: values in that category\n",
    "    if only one category, it wont be taken into account\n",
    "    \"\"\"\n",
    "    valid_categories = dict()\n",
    "    category_names_list = list(metadata.columns)\n",
    "\n",
    "    # get all different possibilities for each metadata column\n",
    "    for col_index in range(metadata.shape[1]):\n",
    "        \n",
    "        # list from a set to avoid repeating\n",
    "        groups = (list(set(metadata[category_names_list[col_index]])))\n",
    "        \n",
    "        # if more than 1 different category, add it to the dict\n",
    "        if len(groups) > 1:\n",
    "            category_name = category_names_list[col_index]\n",
    "            valid_categories[category_name] = [item for item in groups]\n",
    "\n",
    "    return valid_categories, category_names_list"
   ]
  },
  {
   "cell_type": "code",
   "execution_count": null,
   "id": "vanilla-shark",
   "metadata": {},
   "outputs": [],
   "source": [
    "qza_in = \"collapsed_full_table_raw_lvl_6.qza\"\n",
    "metadata_file = \"metadata.tsv\"\n",
    "lvl = 6"
   ]
  },
  {
   "cell_type": "code",
   "execution_count": null,
   "id": "controlled-annual",
   "metadata": {},
   "outputs": [],
   "source": [
    "try:\n",
    "    os.mkdir(f\"prevalence\")\n",
    "except:\n",
    "    pass\n",
    "qza = Artifact.load(qza_in)\n",
    "counts = qza.view(pd.DataFrame)\n",
    "metadata = pd.read_csv(\n",
    "    metadata_file,\n",
    "    sep='\\t',\n",
    "    header=0,\n",
    "    index_col=0\n",
    "    )\n",
    "full_df = pd.concat([metadata, counts], axis=1)"
   ]
  },
  {
   "cell_type": "code",
   "execution_count": null,
   "id": "quarterly-setup",
   "metadata": {},
   "outputs": [],
   "source": [
    "counts"
   ]
  },
  {
   "cell_type": "code",
   "execution_count": null,
   "id": "wireless-poison",
   "metadata": {},
   "outputs": [],
   "source": [
    "metadata"
   ]
  },
  {
   "cell_type": "code",
   "execution_count": null,
   "id": "particular-variance",
   "metadata": {},
   "outputs": [],
   "source": [
    "full_df"
   ]
  },
  {
   "cell_type": "code",
   "execution_count": null,
   "id": "agricultural-blues",
   "metadata": {},
   "outputs": [],
   "source": [
    "valid_categories, category_names_list = create_category_dict(metadata)"
   ]
  },
  {
   "cell_type": "code",
   "execution_count": null,
   "id": "proof-packing",
   "metadata": {},
   "outputs": [],
   "source": [
    "valid_categories"
   ]
  },
  {
   "cell_type": "code",
   "execution_count": null,
   "id": "dynamic-census",
   "metadata": {},
   "outputs": [],
   "source": [
    "category_names_list"
   ]
  },
  {
   "cell_type": "code",
   "execution_count": null,
   "id": "reverse-permission",
   "metadata": {},
   "outputs": [],
   "source": [
    "for category, values in valid_categories.items():\n",
    "    \n",
    "    prevalence_per_value = []\n",
    "    \n",
    "    # print(category)\n",
    "    for value in values:\n",
    "        # print(value)\n",
    "        # Drop metadata columns\n",
    "        sub_df = full_df[full_df[category] == value].drop(category_names_list, axis=1)\n",
    "        # Normalize (0: absence, 1: presence)\n",
    "        norm_df = normalize_dataframe(sub_df, criteria=1)\n",
    "        norm_df.loc[\"Prevalence\"] = norm_df.sum(axis=0)\n",
    "        \n",
    "        row_number, col_number = norm_df.shape\n",
    "        \n",
    "        # data\n",
    "        \n",
    "        for column in range(0, col_number):\n",
    "            # Get the relative abundance of each taxon on each group\n",
    "            norm_df.iloc[row_number-1, column] = norm_df.iloc[row_number-1, column]*100/(row_number-1)\n",
    "        norm_df.rename({\"Prevalence\":value}, axis=0, inplace=True)\n",
    "        \n",
    "        prevalence_per_value.append(norm_df.loc[value].to_frame().transpose())        \n",
    "        \n",
    "    prevalence_df = pd.concat(prevalence_per_value)\n",
    "    \n",
    "    prevalence_df.to_csv(f\"prevalence_lvl_{lvl}_{category}_{value}_wide.tsv\", sep=\"\\t\")\n",
    "    prevalence_df.transpose().to_csv(f\"prevalence_lvl_{lvl}_{category}_{value}_long.tsv\", sep=\"\\t\")\n",
    "    \n",
    "    \n",
    "        "
   ]
  },
  {
   "cell_type": "code",
   "execution_count": null,
   "id": "yellow-project",
   "metadata": {},
   "outputs": [],
   "source": [
    "norm_df"
   ]
  },
  {
   "cell_type": "code",
   "execution_count": null,
   "id": "photographic-massachusetts",
   "metadata": {},
   "outputs": [],
   "source": [
    "prevalence_df"
   ]
  },
  {
   "cell_type": "markdown",
   "id": "tender-halifax",
   "metadata": {},
   "source": [
    "# RELATIVE COUNTS"
   ]
  },
  {
   "cell_type": "code",
   "execution_count": null,
   "id": "august-simple",
   "metadata": {},
   "outputs": [],
   "source": [
    "import shutil\n",
    "import os\n",
    "import sys\n",
    "\n",
    "import pandas as pd\n",
    "from qiime2 import Artifact"
   ]
  },
  {
   "cell_type": "code",
   "execution_count": null,
   "id": "incident-orchestra",
   "metadata": {},
   "outputs": [],
   "source": []
  },
  {
   "cell_type": "code",
   "execution_count": null,
   "id": "brutal-hybrid",
   "metadata": {},
   "outputs": [],
   "source": []
  },
  {
   "cell_type": "code",
   "execution_count": null,
   "id": "restricted-record",
   "metadata": {},
   "outputs": [],
   "source": [
    "filename = \"collapsed_full_table_clean_lvl6.qza\"\n",
    "outdir = \"lvl6\""
   ]
  },
  {
   "cell_type": "code",
   "execution_count": null,
   "id": "fitted-ceramic",
   "metadata": {},
   "outputs": [],
   "source": [
    "# Open visualization\n",
    "qza_artifact = Artifact.load(filename)\n",
    "df = qza_artifact.view(pd.DataFrame)"
   ]
  },
  {
   "cell_type": "code",
   "execution_count": null,
   "id": "premier-helicopter",
   "metadata": {
    "scrolled": true
   },
   "outputs": [],
   "source": [
    "df"
   ]
  },
  {
   "cell_type": "code",
   "execution_count": null,
   "id": "individual-regulation",
   "metadata": {},
   "outputs": [],
   "source": [
    "df[\"Total\"] = df.sum(axis=1)"
   ]
  },
  {
   "cell_type": "code",
   "execution_count": null,
   "id": "refined-motion",
   "metadata": {
    "scrolled": true
   },
   "outputs": [],
   "source": [
    "df"
   ]
  },
  {
   "cell_type": "code",
   "execution_count": null,
   "id": "loaded-allen",
   "metadata": {},
   "outputs": [],
   "source": [
    "rownum, colnum = df.shape\n",
    "for row in range(rownum-1):\n",
    "    for col in range(colnum-1):\n",
    "        df.iloc[row, col] = df.iloc[row, col] * 100 / df.iloc[row, col-1]"
   ]
  },
  {
   "cell_type": "code",
   "execution_count": null,
   "id": "included-eleven",
   "metadata": {
    "scrolled": true
   },
   "outputs": [],
   "source": [
    "df"
   ]
  },
  {
   "cell_type": "code",
   "execution_count": null,
   "id": "residential-parking",
   "metadata": {},
   "outputs": [],
   "source": [
    "df[\"Total\"] = df.sum()\n",
    "# Delete unwanted dirs & files\n",
    "# Hardcoded but its always the same so\n",
    "dirs_to_del = [\"css\", \"js\", \"q2templateassets\"]\n",
    "\n",
    "for folder in dirs_to_del:\n",
    "    shutil.rmtree(f\"{outdir}/{folder}\")\n",
    "\n",
    "files_to_del = [\"index.html\"]\n",
    "for file in files_to_del:\n",
    "    os.remove(f\"{outdir}/{file}\")"
   ]
  },
  {
   "cell_type": "code",
   "execution_count": null,
   "id": "revised-crystal",
   "metadata": {},
   "outputs": [],
   "source": [
    "df = pd.read_csv(f\"{outdir}/metadata.tsv\", sep=\"\\t\", header=0, index_col=0)\n",
    "\n",
    "df = df.drop(\"#q2:types\")\n",
    "df.to_csv(f\"{table_name}.tsv\", sep=\"\\t\")\n",
    "df.transpose().to_csv(f\"{table_name}_long.tsv\", sep=\"\\t\")"
   ]
  }
 ],
 "metadata": {
  "kernelspec": {
   "display_name": "Python 3",
   "language": "python",
   "name": "python3"
  },
  "language_info": {
   "codemirror_mode": {
    "name": "ipython",
    "version": 3
   },
   "file_extension": ".py",
   "mimetype": "text/x-python",
   "name": "python",
   "nbconvert_exporter": "python",
   "pygments_lexer": "ipython3",
   "version": "3.6.13"
  }
 },
 "nbformat": 4,
 "nbformat_minor": 5
}
