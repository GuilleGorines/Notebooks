{
 "cells": [
  {
   "cell_type": "code",
   "execution_count": 1,
   "id": "measured-difficulty",
   "metadata": {},
   "outputs": [],
   "source": [
    "import shutil\n",
    "import os\n",
    "import sys\n",
    "\n",
    "import pandas as pd\n",
    "from qiime2 import Visualization"
   ]
  },
  {
   "cell_type": "code",
   "execution_count": 2,
   "id": "absolute-mechanics",
   "metadata": {},
   "outputs": [],
   "source": [
    "filename = \"collapsed_table_lvl6.qzv\"\n",
    "outdir = \"lvl6\"\n",
    "\n",
    "table_name = f\"{outdir}/data\""
   ]
  },
  {
   "cell_type": "code",
   "execution_count": 3,
   "id": "answering-mambo",
   "metadata": {},
   "outputs": [],
   "source": [
    "# Open visualization\n",
    "qzv_file = Visualization.load(filename)\n",
    "\n",
    "# Export the data from the visualization onto a dir\n",
    "qzv_file.export_data(outdir)"
   ]
  },
  {
   "cell_type": "code",
   "execution_count": 4,
   "id": "pharmaceutical-exemption",
   "metadata": {},
   "outputs": [],
   "source": [
    "# Delete unwanted dirs & files\n",
    "# Hardcoded but its always the same so\n",
    "dirs_to_del = [\"css\", \"js\", \"q2templateassets\"]\n",
    "\n",
    "for folder in dirs_to_del:\n",
    "    shutil.rmtree(f\"{outdir}/{folder}\")\n",
    "\n",
    "files_to_del = [\"index.html\"]\n",
    "for file in files_to_del:\n",
    "    os.remove(f\"{outdir}/{file}\")"
   ]
  },
  {
   "cell_type": "code",
   "execution_count": 8,
   "id": "found-rachel",
   "metadata": {},
   "outputs": [],
   "source": [
    "df = pd.read_csv(f\"{outdir}/metadata.tsv\", sep=\"\\t\", header=0, index_col=0)\n",
    "\n",
    "df = df.drop(\"#q2:types\")\n",
    "df.to_csv(f\"{table_name}.tsv\", sep=\"\\t\")\n",
    "df.transpose().to_csv(f\"{table_name}_transposed.tsv\", sep=\"\\t\")"
   ]
  }
 ],
 "metadata": {
  "kernelspec": {
   "display_name": "Python 3",
   "language": "python",
   "name": "python3"
  },
  "language_info": {
   "codemirror_mode": {
    "name": "ipython",
    "version": 3
   },
   "file_extension": ".py",
   "mimetype": "text/x-python",
   "name": "python",
   "nbconvert_exporter": "python",
   "pygments_lexer": "ipython3",
   "version": "3.6.13"
  }
 },
 "nbformat": 4,
 "nbformat_minor": 5
}
