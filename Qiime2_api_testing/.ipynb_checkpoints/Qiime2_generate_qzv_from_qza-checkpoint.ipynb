{
 "cells": [
  {
   "cell_type": "code",
   "execution_count": 1,
   "id": "dramatic-simpson",
   "metadata": {},
   "outputs": [],
   "source": [
    "import qiime2\n",
    "from qiime2.plugins.metadata.visualizers import tabulate\n",
    "import pandas as pd"
   ]
  },
  {
   "cell_type": "code",
   "execution_count": 2,
   "id": "naughty-reconstruction",
   "metadata": {},
   "outputs": [],
   "source": [
    "filename = \"collapsed_full_table_raw_lvl_6.qza\"\n",
    "visualfile = filename.replace(\"qza\",\"qzv\")"
   ]
  },
  {
   "cell_type": "code",
   "execution_count": 3,
   "id": "controlled-warrior",
   "metadata": {},
   "outputs": [
    {
     "name": "stdout",
     "output_type": "stream",
     "text": [
      "collapsed_full_table_raw_lvl_6.qza\n",
      "collapsed_full_table_raw_lvl_6.qzv\n"
     ]
    }
   ],
   "source": [
    "print(filename)\n",
    "print(visualfile)"
   ]
  },
  {
   "cell_type": "code",
   "execution_count": 6,
   "id": "bridal-journalist",
   "metadata": {},
   "outputs": [],
   "source": [
    "def metadata_tabulate(df, outname):\n",
    "    metadata = qiime2.Metadata(df)\n",
    "    output = tabulate(metadata)\n",
    "    output.save(outname)\n",
    "    return"
   ]
  },
  {
   "cell_type": "code",
   "execution_count": 12,
   "id": "opponent-disposition",
   "metadata": {},
   "outputs": [],
   "source": [
    "qiime2.MetadataColumn?"
   ]
  },
  {
   "cell_type": "code",
   "execution_count": 7,
   "id": "unique-thumb",
   "metadata": {},
   "outputs": [
    {
     "ename": "TypeError",
     "evalue": "Metadata constructor requires a pandas.DataFrame object, not <class 'qiime2.sdk.result.Artifact'>",
     "output_type": "error",
     "traceback": [
      "\u001b[0;31m---------------------------------------------------------------------------\u001b[0m",
      "\u001b[0;31mTypeError\u001b[0m                                 Traceback (most recent call last)",
      "\u001b[0;32m<ipython-input-7-43d07ba84ad7>\u001b[0m in \u001b[0;36m<module>\u001b[0;34m\u001b[0m\n\u001b[1;32m     15\u001b[0m \u001b[0;34m\u001b[0m\u001b[0m\n\u001b[1;32m     16\u001b[0m \u001b[0;31m# Generate a visual file for both artifacts\u001b[0m\u001b[0;34m\u001b[0m\u001b[0;34m\u001b[0m\u001b[0;34m\u001b[0m\u001b[0m\n\u001b[0;32m---> 17\u001b[0;31m \u001b[0mmetadata_tabulate\u001b[0m\u001b[0;34m(\u001b[0m\u001b[0mraw_artifact\u001b[0m\u001b[0;34m,\u001b[0m \u001b[0;34m\"prueba_raw.qzv\"\u001b[0m\u001b[0;34m)\u001b[0m\u001b[0;34m\u001b[0m\u001b[0;34m\u001b[0m\u001b[0m\n\u001b[0m\u001b[1;32m     18\u001b[0m \u001b[0mmetadata_tabulate\u001b[0m\u001b[0;34m(\u001b[0m\u001b[0mclean_artifact\u001b[0m\u001b[0;34m,\u001b[0m \u001b[0;34m\"prueba_clean.qzv\"\u001b[0m\u001b[0;34m)\u001b[0m\u001b[0;34m\u001b[0m\u001b[0;34m\u001b[0m\u001b[0m\n",
      "\u001b[0;32m<ipython-input-6-e1432aae3ded>\u001b[0m in \u001b[0;36mmetadata_tabulate\u001b[0;34m(artifact, outname)\u001b[0m\n\u001b[1;32m      1\u001b[0m \u001b[0;32mdef\u001b[0m \u001b[0mmetadata_tabulate\u001b[0m\u001b[0;34m(\u001b[0m\u001b[0martifact\u001b[0m\u001b[0;34m,\u001b[0m \u001b[0moutname\u001b[0m\u001b[0;34m)\u001b[0m\u001b[0;34m:\u001b[0m\u001b[0;34m\u001b[0m\u001b[0;34m\u001b[0m\u001b[0m\n\u001b[0;32m----> 2\u001b[0;31m     \u001b[0mmetadata\u001b[0m \u001b[0;34m=\u001b[0m \u001b[0mqiime2\u001b[0m\u001b[0;34m.\u001b[0m\u001b[0mMetadata\u001b[0m\u001b[0;34m(\u001b[0m\u001b[0martifact\u001b[0m\u001b[0;34m)\u001b[0m\u001b[0;34m\u001b[0m\u001b[0;34m\u001b[0m\u001b[0m\n\u001b[0m\u001b[1;32m      3\u001b[0m     \u001b[0moutput\u001b[0m \u001b[0;34m=\u001b[0m \u001b[0mtabulate\u001b[0m\u001b[0;34m(\u001b[0m\u001b[0mmetadata\u001b[0m\u001b[0;34m)\u001b[0m\u001b[0;34m\u001b[0m\u001b[0;34m\u001b[0m\u001b[0m\n\u001b[1;32m      4\u001b[0m     \u001b[0moutput\u001b[0m\u001b[0;34m.\u001b[0m\u001b[0msave\u001b[0m\u001b[0;34m(\u001b[0m\u001b[0moutname\u001b[0m\u001b[0;34m)\u001b[0m\u001b[0;34m\u001b[0m\u001b[0;34m\u001b[0m\u001b[0m\n\u001b[1;32m      5\u001b[0m     \u001b[0;32mreturn\u001b[0m\u001b[0;34m\u001b[0m\u001b[0;34m\u001b[0m\u001b[0m\n",
      "\u001b[0;32m~/miniconda3/envs/qiime2021.2/lib/python3.6/site-packages/qiime2/metadata/metadata.py\u001b[0m in \u001b[0;36m__init__\u001b[0;34m(self, dataframe)\u001b[0m\n\u001b[1;32m    353\u001b[0m             raise TypeError(\n\u001b[1;32m    354\u001b[0m                 \u001b[0;34m\"%s constructor requires a pandas.DataFrame object, not \"\u001b[0m\u001b[0;34m\u001b[0m\u001b[0;34m\u001b[0m\u001b[0m\n\u001b[0;32m--> 355\u001b[0;31m                 \"%r\" % (self.__class__.__name__, type(dataframe)))\n\u001b[0m\u001b[1;32m    356\u001b[0m \u001b[0;34m\u001b[0m\u001b[0m\n\u001b[1;32m    357\u001b[0m         \u001b[0msuper\u001b[0m\u001b[0;34m(\u001b[0m\u001b[0;34m)\u001b[0m\u001b[0;34m.\u001b[0m\u001b[0m__init__\u001b[0m\u001b[0;34m(\u001b[0m\u001b[0mdataframe\u001b[0m\u001b[0;34m.\u001b[0m\u001b[0mindex\u001b[0m\u001b[0;34m)\u001b[0m\u001b[0;34m\u001b[0m\u001b[0;34m\u001b[0m\u001b[0m\n",
      "\u001b[0;31mTypeError\u001b[0m: Metadata constructor requires a pandas.DataFrame object, not <class 'qiime2.sdk.result.Artifact'>"
     ]
    }
   ],
   "source": [
    "# Import the qza artifact\n",
    "raw_artifact = qiime2.Artifact.load(filename)\n",
    "# get the associated dataframe\n",
    "df_raw = raw_artifact.view(pd.DataFrame)\n",
    "\n",
    "# clean the associated dataframe\n",
    "# remove the \";__\"\n",
    "df_clean = df_raw.loc[:, ~df_raw.columns.str.endswith(\";__\")]\n",
    "\n",
    "# Generate the artifact from the dataframe\n",
    "clean_artifact = qiime2.Artifact.import_data(\"FeatureTable[Frequency]\", df_clean)\n",
    "\n",
    "# Save the clean artifact\n",
    "clean_artifact.save(\"collapsed_full_table_clean_lvl6.qza\")\n",
    "\n",
    "# Generate a visual file for both artifacts\n",
    "metadata_tabulate(df_raw, \"prueba_raw.qzv\")\n",
    "metadata_tabulate(df_clean, \"prueba_clean.qzv\")"
   ]
  },
  {
   "cell_type": "code",
   "execution_count": null,
   "id": "patient-mouse",
   "metadata": {},
   "outputs": [],
   "source": []
  }
 ],
 "metadata": {
  "kernelspec": {
   "display_name": "Python 3",
   "language": "python",
   "name": "python3"
  },
  "language_info": {
   "codemirror_mode": {
    "name": "ipython",
    "version": 3
   },
   "file_extension": ".py",
   "mimetype": "text/x-python",
   "name": "python",
   "nbconvert_exporter": "python",
   "pygments_lexer": "ipython3",
   "version": "3.6.13"
  }
 },
 "nbformat": 4,
 "nbformat_minor": 5
}
