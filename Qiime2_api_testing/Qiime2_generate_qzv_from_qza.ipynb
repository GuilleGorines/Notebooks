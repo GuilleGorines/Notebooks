{
 "cells": [
  {
   "cell_type": "code",
   "execution_count": 35,
   "id": "fundamental-robert",
   "metadata": {},
   "outputs": [],
   "source": [
    "import qiime2\n",
    "from qiime2.plugins.metadata.visualizers import tabulate\n",
    "import pandas as pd"
   ]
  },
  {
   "cell_type": "code",
   "execution_count": 36,
   "id": "initial-brazilian",
   "metadata": {},
   "outputs": [],
   "source": [
    "filename = \"collapsed_full_table_raw_lvl_6.qza\"\n",
    "visualfile = filename.replace(\"qza\",\"qzv\")"
   ]
  },
  {
   "cell_type": "code",
   "execution_count": 48,
   "id": "informal-quarter",
   "metadata": {},
   "outputs": [
    {
     "data": {
      "text/plain": [
       "'collapsed_full_table_clean_lvl6.qza'"
      ]
     },
     "execution_count": 48,
     "metadata": {},
     "output_type": "execute_result"
    }
   ],
   "source": [
    "# Import the qza artifact\n",
    "raw_artifact = qiime2.Artifact.load(filename)\n",
    "\n",
    "# get the associated dataframe\n",
    "df_raw = raw_artifact.view(pd.DataFrame)\n",
    "\n",
    "# clean the associated dataframe\n",
    "# remove the \";__\"\n",
    "df_clean = df_raw.loc[:, ~df_raw.columns.str.endswith(\";__\")]\n",
    "\n",
    "# Generate the artifact from the dataframe\n",
    "clean_artifact = qiime2.Artifact.import_data(\"FeatureTable[Frequency]\", df_clean)\n",
    "\n",
    "# Save the clean artifact\n",
    "clean_artifact.save(\"collapsed_full_table_clean_lvl6.qza\")"
   ]
  }
 ],
 "metadata": {
  "kernelspec": {
   "display_name": "Python 3",
   "language": "python",
   "name": "python3"
  },
  "language_info": {
   "codemirror_mode": {
    "name": "ipython",
    "version": 3
   },
   "file_extension": ".py",
   "mimetype": "text/x-python",
   "name": "python",
   "nbconvert_exporter": "python",
   "pygments_lexer": "ipython3",
   "version": "3.6.13"
  }
 },
 "nbformat": 4,
 "nbformat_minor": 5
}
